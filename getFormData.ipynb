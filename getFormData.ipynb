{
 "cells": [
  {
   "cell_type": "code",
   "execution_count": 1,
   "metadata": {},
   "outputs": [],
   "source": [
    "import pandas as pd\n",
    "import numpy as np"
   ]
  },
  {
   "cell_type": "code",
   "execution_count": 2,
   "metadata": {},
   "outputs": [
    {
     "data": {
      "text/plain": [
       "Index(['Timestamp', 'Username', 'Name', 'Position/Head of',\n",
       "       'Facebook Profile link', 'LinkedIn Profile link',\n",
       "       'Picture for website and Instagram post (1:1 ratio)'],\n",
       "      dtype='object')"
      ]
     },
     "execution_count": 2,
     "metadata": {},
     "output_type": "execute_result"
    }
   ],
   "source": [
    "filename = \"./Heads 2019-2020.csv\"\n",
    "data = pd.read_csv(filename)\n",
    "data.columns"
   ]
  },
  {
   "cell_type": "code",
   "execution_count": 3,
   "metadata": {},
   "outputs": [],
   "source": [
    "data['Picture for website and Instagram post (1:1 ratio)'] = np.arange(len(data)) +1"
   ]
  },
  {
   "cell_type": "code",
   "execution_count": 4,
   "metadata": {},
   "outputs": [],
   "source": [
    "data = data.rename(columns={\"Position/Head of\": \"Position\",\"Facebook Profile link\": \"Facebook\",\"LinkedIn Profile link\": \"Linkedin\", 'Picture for website and Instagram post (1:1 ratio)' : \"Image\"})"
   ]
  },
  {
   "cell_type": "code",
   "execution_count": 5,
   "metadata": {},
   "outputs": [],
   "source": [
    "data = data.fillna('')"
   ]
  },
  {
   "cell_type": "code",
   "execution_count": 6,
   "metadata": {},
   "outputs": [],
   "source": [
    "dictData = data.to_dict()"
   ]
  },
  {
   "cell_type": "code",
   "execution_count": null,
   "metadata": {},
   "outputs": [],
   "source": []
  },
  {
   "cell_type": "code",
   "execution_count": 7,
   "metadata": {},
   "outputs": [],
   "source": [
    "finalArrData = []\n",
    "for i in range(0,len(data)):\n",
    "    finalArrData.append(\n",
    "    {\n",
    "    'Name': dictData['Name'][i], 'Image' : ('./assets/team/' + str(dictData['Image'][i]) + '.jpg'), 'Position' : dictData['Position'][i],'Facebook': dictData['Facebook'][i],\n",
    "    'Linkedin': dictData['Linkedin'][i]\n",
    "                }\n",
    "    \n",
    "    )"
   ]
  },
  {
   "cell_type": "code",
   "execution_count": 8,
   "metadata": {
    "scrolled": true
   },
   "outputs": [
    {
     "data": {
      "text/plain": [
       "[{'Name': 'Jahanvi Goyal',\n",
       "  'Image': './assets/team/1.jpg',\n",
       "  'Position': 'Fashion society - Panache',\n",
       "  'Facebook': 'https://www.facebook.com/goyal.jahanvi18',\n",
       "  'Linkedin': 'https://www.linkedin.com/in/jahanvi-goyal-08486517a'},\n",
       " {'Name': 'Tushar Goel',\n",
       "  'Image': './assets/team/2.jpg',\n",
       "  'Position': 'Website Designing and Technical Head',\n",
       "  'Facebook': 'https://facebook.com/tushar.goel.904',\n",
       "  'Linkedin': 'https://www.linkedin.com/in/tushar-goel-53b09411a'},\n",
       " {'Name': 'Saurabh sharma',\n",
       "  'Image': './assets/team/3.jpg',\n",
       "  'Position': 'Prismatic',\n",
       "  'Facebook': '',\n",
       "  'Linkedin': 'https://www.linkedin.com/in/saurabh-sharma-059106178'},\n",
       " {'Name': 'Vipul kumar',\n",
       "  'Image': './assets/team/4.jpg',\n",
       "  'Position': 'Chief editor',\n",
       "  'Facebook': 'https://www.facebook.com/vipulsatyendra',\n",
       "  'Linkedin': 'https://www.linkedin.com/in/vipul-satyendra-b95747151'},\n",
       " {'Name': 'Bhartendu Dubey',\n",
       "  'Image': './assets/team/5.jpg',\n",
       "  'Position': 'Quizzing Head',\n",
       "  'Facebook': 'https://www.facebook.com/bhartendu.dubey',\n",
       "  'Linkedin': 'https://www.linkedin.com/in/bhartendu-dubey-0312b2111'},\n",
       " {'Name': 'Kashvi Saxena',\n",
       "  'Image': './assets/team/6.jpg',\n",
       "  'Position': 'Fortissimo (Music Society)',\n",
       "  'Facebook': 'https://www.facebook.com/kashvi.saxena.79',\n",
       "  'Linkedin': ''},\n",
       " {'Name': 'Anubhav Sanyal',\n",
       "  'Image': './assets/team/7.jpg',\n",
       "  'Position': 'Literary Head and Youth Conference Head',\n",
       "  'Facebook': 'https://www.facebook.com/anubhav.sanyal09',\n",
       "  'Linkedin': 'https://www.linkedin.com/in/anubhav-sanyal-424852192'},\n",
       " {'Name': 'Shuddhatm Jain',\n",
       "  'Image': './assets/team/8.jpg',\n",
       "  'Position': 'General Secretary ',\n",
       "  'Facebook': 'https://www.facebook.com/shuddhatm.jain.7',\n",
       "  'Linkedin': 'https://www.linkedin.com/in/shuddhatm-jain-6ab2b2150'},\n",
       " {'Name': 'HARSH VARSHNEY',\n",
       "  'Image': './assets/team/9.jpg',\n",
       "  'Position': 'HEAD/Aura: Photography Club',\n",
       "  'Facebook': 'https://www.facebook.com/gabruh',\n",
       "  'Linkedin': 'https://www.linkedin.com/in/harsh-varshney-5b4514168/'},\n",
       " {'Name': 'Parth Sethi ',\n",
       "  'Image': './assets/team/10.jpg',\n",
       "  'Position': 'Bhangde De Sartaaj ',\n",
       "  'Facebook': 'https://www.facebook.com/parth.sethi.5621',\n",
       "  'Linkedin': ''},\n",
       " {'Name': 'Sugandha Pathak ',\n",
       "  'Image': './assets/team/11.jpg',\n",
       "  'Position': 'Head Aakriti',\n",
       "  'Facebook': '',\n",
       "  'Linkedin': 'https://www.linkedin.com/in/sugandha-pathak-4027a5177'},\n",
       " {'Name': 'SHIKHAR KATARUKA',\n",
       "  'Image': './assets/team/12.jpg',\n",
       "  'Position': 'Treasurer',\n",
       "  'Facebook': 'https://m.facebook.com/shikhar.kataruka.1',\n",
       "  'Linkedin': 'https://linkedin.com/in/shikhar9820'},\n",
       " {'Name': 'Dhiraj Wadhwa',\n",
       "  'Image': './assets/team/13.jpg',\n",
       "  'Position': 'Cinekala',\n",
       "  'Facebook': 'https://www.facebook.com/dhiraj3108',\n",
       "  'Linkedin': 'https://www.linkedin.com/in/dhirajwadhwa'},\n",
       " {'Name': 'Ashita',\n",
       "  'Image': './assets/team/14.jpg',\n",
       "  'Position': 'PUBLIC RELATIONS',\n",
       "  'Facebook': '',\n",
       "  'Linkedin': ''},\n",
       " {'Name': 'utkarsh srivastava',\n",
       "  'Image': './assets/team/15.jpg',\n",
       "  'Position': 'CICR head',\n",
       "  'Facebook': 'https://bit.ly/2EJ9wlT',\n",
       "  'Linkedin': 'https://bit.ly/34Nra2D'},\n",
       " {'Name': 'Harshit Singh',\n",
       "  'Image': './assets/team/16.jpg',\n",
       "  'Position': 'ABHIVYAKTI',\n",
       "  'Facebook': '',\n",
       "  'Linkedin': ''},\n",
       " {'Name': 'Megha Goel',\n",
       "  'Image': './assets/team/17.jpg',\n",
       "  'Position': 'Aakriti Head',\n",
       "  'Facebook': 'https://m.facebook.com/profile.php?ref=bookmarks',\n",
       "  'Linkedin': ''},\n",
       " {'Name': 'Atul',\n",
       "  'Image': './assets/team/18.jpg',\n",
       "  'Position': 'Vice President',\n",
       "  'Facebook': 'https://www.facebook.com/atul.upadhyay.14811692',\n",
       "  'Linkedin': 'https://www.linkedin.com/in/atul-upadhyay-293681160'},\n",
       " {'Name': 'Prateek Jain',\n",
       "  'Image': './assets/team/19.jpg',\n",
       "  'Position': 'Public Relations',\n",
       "  'Facebook': 'https://m.facebook.com/profile.php',\n",
       "  'Linkedin': 'https://www.linkedin.com/mwlite/me'},\n",
       " {'Name': 'Pranav',\n",
       "  'Image': './assets/team/20.jpg',\n",
       "  'Position': 'Western Dance Society Head ',\n",
       "  'Facebook': 'https://www.facebook.com/pranav.mangla',\n",
       "  'Linkedin': ''},\n",
       " {'Name': 'Shubham Singh',\n",
       "  'Image': './assets/team/21.jpg',\n",
       "  'Position': 'CICR',\n",
       "  'Facebook': '',\n",
       "  'Linkedin': ''},\n",
       " {'Name': 'Shubham Shahi',\n",
       "  'Image': './assets/team/22.jpg',\n",
       "  'Position': 'Head CICR (Robotics)',\n",
       "  'Facebook': 'https://www.facebook.com/shubham.shahi.102',\n",
       "  'Linkedin': 'https://www.linkedin.com/in/shubham-s-200146111/'},\n",
       " {'Name': 'Eti Agarwal',\n",
       "  'Image': './assets/team/23.jpg',\n",
       "  'Position': 'Public Relations',\n",
       "  'Facebook': 'https://m.facebook.com/eti.agrawal.7?',\n",
       "  'Linkedin': ' https://www.linkedin.com/in/eti-agarwal-28020b154'},\n",
       " {'Name': 'Saksham Srivastava',\n",
       "  'Image': './assets/team/24.jpg',\n",
       "  'Position': 'Student Welfare Head',\n",
       "  'Facebook': '',\n",
       "  'Linkedin': ''},\n",
       " {'Name': 'Jahnvi verma ',\n",
       "  'Image': './assets/team/25.jpg',\n",
       "  'Position': 'Registration',\n",
       "  'Facebook': 'https://www.facebook.com/profile.php?id=100009176903597',\n",
       "  'Linkedin': ''},\n",
       " {'Name': 'Bhartendu Dubey',\n",
       "  'Image': './assets/team/26.jpg',\n",
       "  'Position': 'Quizzing Head (Qriosity)',\n",
       "  'Facebook': 'http://oneistoone.ratio.com',\n",
       "  'Linkedin': 'http://oneistoone.ratio.com'},\n",
       " {'Name': 'Dhananajay Chaudhary',\n",
       "  'Image': './assets/team/27.jpg',\n",
       "  'Position': 'Fortissimo-The Music Society Of JIIT128',\n",
       "  'Facebook': 'https://m.facebook.com/dhananjay.chaudhary.9047?ref=bookmarks',\n",
       "  'Linkedin': ''}]"
      ]
     },
     "execution_count": 8,
     "metadata": {},
     "output_type": "execute_result"
    }
   ],
   "source": [
    "finalArrData"
   ]
  },
  {
   "cell_type": "code",
   "execution_count": null,
   "metadata": {},
   "outputs": [],
   "source": []
  },
  {
   "cell_type": "code",
   "execution_count": null,
   "metadata": {},
   "outputs": [],
   "source": []
  }
 ],
 "metadata": {
  "kernelspec": {
   "display_name": "Python 3",
   "language": "python",
   "name": "python3"
  },
  "language_info": {
   "codemirror_mode": {
    "name": "ipython",
    "version": 3
   },
   "file_extension": ".py",
   "mimetype": "text/x-python",
   "name": "python",
   "nbconvert_exporter": "python",
   "pygments_lexer": "ipython3",
   "version": "3.6.5"
  }
 },
 "nbformat": 4,
 "nbformat_minor": 2
}
